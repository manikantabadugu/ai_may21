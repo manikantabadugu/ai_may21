{
 "cells": [
  {
   "cell_type": "markdown",
   "metadata": {},
   "source": [
    "# Student Analsis\n",
    "\n",
    "\n",
    "In this notebook I present to you data taken out of a real highschool. In this dataset we have a total of 16 variables and a single class. Most of the data is categorical, this means it is divided into a certain ammount of pre-defined categories. There also a few columns that have numerical data in the form of integers. In this notebook we will try to extract some key features in order to better understand the dataset and as part of the field of 'Data Analysis'."
   ]
  },
  {
   "cell_type": "markdown",
   "metadata": {},
   "source": [
    "## Step 0: \n",
    "### Load the data into a pandas dataframe\n",
    "\n",
    "How do you intend to do data analysis without loading the data????\n",
    "# ?"
   ]
  },
  {
   "cell_type": "code",
   "execution_count": 1,
   "metadata": {},
   "outputs": [],
   "source": [
    "df = 0"
   ]
  },
  {
   "cell_type": "markdown",
   "metadata": {},
   "source": [
    "## Step 1: \n",
    "### Print some elements from the dataset in order to take a quick look at the dataset\n",
    "\n",
    "Understanding the data you are working with is very important"
   ]
  },
  {
   "cell_type": "code",
   "execution_count": null,
   "metadata": {},
   "outputs": [],
   "source": [
    "# Print 10 e random elements from the dataset."
   ]
  },
  {
   "cell_type": "markdown",
   "metadata": {},
   "source": [
    "## Step 2:\n",
    "### Check for missing or null values\n",
    "\n",
    "We should always check for missing values as part of getting familiarized with our data.\n"
   ]
  },
  {
   "cell_type": "code",
   "execution_count": null,
   "metadata": {},
   "outputs": [],
   "source": [
    "# check for null values"
   ]
  },
  {
   "cell_type": "markdown",
   "metadata": {},
   "source": [
    "## Step 3:\n",
    "### which is the column with the highest ammount of VARIABILITY?\n",
    "\n",
    "Time to start extracting info.\n"
   ]
  },
  {
   "cell_type": "code",
   "execution_count": null,
   "metadata": {},
   "outputs": [],
   "source": [
    "# Check every column EXCEPT the one for the class and find out which one has the highest variability\n",
<<<<<<< HEAD
    "\n",
    "sigma = 0"
=======
    "import seaborn as sns\n",
    "sigma = 0\n",
    "columns_list=[]\n",
    "for col in df.columns:\n",
    "    columns_list.append(col)\n",
    "columns_list.sort()\n",
    "columns_list"
   ]
  },
  {
   "cell_type": "code",
   "execution_count": null,
   "metadata": {},
   "outputs": [],
   "source": []
  },
  {
   "cell_type": "code",
   "execution_count": 75,
   "metadata": {},
   "outputs": [
    {
     "name": "stderr",
     "output_type": "stream",
     "text": [
      "<ipython-input-75-74d3d031217a>:2: UserWarning: FixedFormatter should only be used together with FixedLocator\n",
      "  b.set_xticklabels(df.PlaceofBirth.unique(),rotation=90)\n"
     ]
    },
    {
     "data": {
      "text/plain": [
       "[Text(0, 0, 'KuwaIT'),\n",
       " Text(1, 0, 'lebanon'),\n",
       " Text(2, 0, 'Egypt'),\n",
       " Text(3, 0, 'SaudiArabia'),\n",
       " Text(4, 0, 'USA'),\n",
       " Text(5, 0, 'Jordan'),\n",
       " Text(6, 0, 'venzuela'),\n",
       " Text(7, 0, 'Iran'),\n",
       " Text(8, 0, 'Tunis'),\n",
       " Text(9, 0, 'Morocco'),\n",
       " Text(10, 0, 'Syria'),\n",
       " Text(11, 0, 'Iraq'),\n",
       " Text(12, 0, 'Palestine'),\n",
       " Text(13, 0, 'Lybia')]"
      ]
     },
     "execution_count": 75,
     "metadata": {},
     "output_type": "execute_result"
    },
    {
     "data": {
      "image/png": "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\n",
      "text/plain": [
       "<Figure size 432x288 with 1 Axes>"
      ]
     },
     "metadata": {
      "needs_background": "light"
     },
     "output_type": "display_data"
    }
   ],
   "source": [
    "b=sns.histplot(df.PlaceofBirth)\n",
    "b.set_xticklabels(df.PlaceofBirth.unique(),rotation=90)"
>>>>>>> parent of f0c35cf (kdjv)
   ]
  },
  {
   "cell_type": "markdown",
   "metadata": {},
   "source": [
    "## Step 4:\n",
    "### Find out for each variable their skewness and plot 5 of them.\n",
    "\n",
    "Understanding the biases of data can always give us some key information\n"
   ]
  },
  {
   "cell_type": "code",
   "execution_count": 2,
   "metadata": {},
   "outputs": [],
   "source": [
    "# Select 5 columns and find out their bias\n",
    "\n"
   ]
  },
  {
   "cell_type": "markdown",
   "metadata": {},
   "source": [
    "## Step 5:\n",
    "### Find out for all the variables which is their correlation with the class\n",
    "\n",
    "Sometimes we need to reduce the ammount of features we feed the model in order to make it more lighweight, so we either select the best ones or take out the most useless ones."
   ]
  },
  {
   "cell_type": "code",
   "execution_count": null,
   "metadata": {},
   "outputs": [],
   "source": [
    "# Select the top 4 most correlated and put them in a different dataset"
   ]
  },
  {
   "cell_type": "code",
   "execution_count": null,
   "metadata": {},
   "outputs": [],
   "source": [
    "# Select the top 4 least correlated and create a new dataset without them"
   ]
  },
  {
   "cell_type": "markdown",
   "metadata": {},
   "source": [
    "## Step 6:\n",
    "### Visualize the correlation between the previously selected 4 most correlated variables with the class\n",
    "\n",
    "Lets see if those are correlated too.\n"
   ]
  },
  {
   "cell_type": "code",
   "execution_count": null,
   "metadata": {},
   "outputs": [],
   "source": [
    "# Plot the correlation among themself for the previous 4 variables."
   ]
  },
  {
   "cell_type": "markdown",
   "metadata": {},
   "source": [
    "## Step 7:\n",
    "### For the previoys 4 variables plot them AGAINST the class\n"
   ]
  },
  {
   "cell_type": "code",
   "execution_count": 3,
   "metadata": {},
   "outputs": [],
   "source": [
    "# make 4 plot where you plot each of the variables with the class"
   ]
  },
  {
   "cell_type": "markdown",
   "metadata": {},
   "source": [
    "## Step 8:\n",
    "### Probability time, if I know a student had less than 7 absent days what is the probability of him being classified as L"
   ]
  },
  {
   "cell_type": "code",
   "execution_count": null,
   "metadata": {},
   "outputs": [],
   "source": [
    "# compute the probability"
   ]
  },
  {
   "cell_type": "markdown",
   "metadata": {},
   "source": [
    "## Step 8:\n",
    "### Probability time, if I know a student had less than 7 absent days what is the probability of him being classified as m or higher, using the previous calculation"
   ]
  },
  {
   "cell_type": "code",
   "execution_count": null,
   "metadata": {},
   "outputs": [],
   "source": [
    "# Looking at step seven extrapolate from it the probability of a student being classified as M or H"
   ]
  },
  {
   "cell_type": "markdown",
   "metadata": {},
   "source": [
    "## Step 9:\n",
    "### Probability time, knowing a student was classified as H, what is the probability of him having raised the hand more than 10 times"
   ]
  },
  {
   "cell_type": "code",
   "execution_count": null,
   "metadata": {},
   "outputs": [],
   "source": [
    "# Bayes time"
   ]
  },
  {
   "cell_type": "markdown",
   "metadata": {},
   "source": [
    "## Step 10:\n",
    "### Free time, if I was the principal of the school what plots and probabilities would you show me to help me accept only M and H students."
   ]
  }
 ],
 "metadata": {
  "interpreter": {
   "hash": "c2ad988b83bc3032ab0bc6c9b326315d9b3145f093b7c28f6f9e14e1089dbd73"
  },
  "kernelspec": {
   "display_name": "Python 3",
   "language": "python",
   "name": "python3"
  },
  "language_info": {
   "codemirror_mode": {
    "name": "ipython",
    "version": 3
   },
   "file_extension": ".py",
   "mimetype": "text/x-python",
   "name": "python",
   "nbconvert_exporter": "python",
   "pygments_lexer": "ipython3",
   "version": "3.9.1"
  },
  "varInspector": {
   "cols": {
    "lenName": 16,
    "lenType": 16,
    "lenVar": 40
   },
   "kernels_config": {
    "python": {
     "delete_cmd_postfix": "",
     "delete_cmd_prefix": "del ",
     "library": "var_list.py",
     "varRefreshCmd": "print(var_dic_list())"
    },
    "r": {
     "delete_cmd_postfix": ") ",
     "delete_cmd_prefix": "rm(",
     "library": "var_list.r",
     "varRefreshCmd": "cat(var_dic_list()) "
    }
   },
   "types_to_exclude": [
    "module",
    "function",
    "builtin_function_or_method",
    "instance",
    "_Feature"
   ],
   "window_display": false
  }
 },
 "nbformat": 4,
 "nbformat_minor": 2
}
